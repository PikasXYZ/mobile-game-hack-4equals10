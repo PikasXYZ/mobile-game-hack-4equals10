{
  "cells": [
    {
      "cell_type": "markdown",
      "metadata": {
        "id": "view-in-github",
        "colab_type": "text"
      },
      "source": [
        "<a href=\"https://colab.research.google.com/github/PikasXYZ/mobile-game-hack-4equals10/blob/main/X%3DY.ipynb\" target=\"_parent\"><img src=\"https://colab.research.google.com/assets/colab-badge.svg\" alt=\"Open In Colab\"/></a>"
      ]
    },
    {
      "cell_type": "markdown",
      "metadata": {
        "id": "WXa45uu82aW7"
      },
      "source": [
        "#Imports & Functions"
      ]
    },
    {
      "cell_type": "code",
      "execution_count": null,
      "metadata": {
        "cellView": "form",
        "id": "9-IYu4hztX9s"
      },
      "outputs": [],
      "source": [
        "#@title Import \n",
        "from itertools import permutations, combinations, combinations_with_replacement\n",
        "from time import time\n",
        "from google.colab import drive\n",
        "from IPython.display import clear_output, display\n",
        "import ipywidgets as widgets\n",
        "import pandas as pd\n",
        "import pickle\n",
        "import os\n",
        "import requests"
      ]
    },
    {
      "cell_type": "code",
      "execution_count": null,
      "metadata": {
        "cellView": "form",
        "id": "gM9K37pnpRHE"
      },
      "outputs": [],
      "source": [
        "#@title Insert operators into given number list\n",
        "def posibility(number_list, operators, pos=[]):\n",
        "  pos = pos if pos else [number_list[0]]\n",
        "  if len(number_list)>1:\n",
        "    new_pos = [p + op + number_list[1] for op in operators for p in pos]\n",
        "    # new_pos = []\n",
        "    # for op in operators:\n",
        "    #   for p in pos:\n",
        "    #     new_pos.append(p + op + number_list[1])\n",
        "    pos = posibility(number_list[1:],operators,new_pos)\n",
        "  return pos"
      ]
    },
    {
      "cell_type": "code",
      "execution_count": null,
      "metadata": {
        "cellView": "form",
        "id": "EJHFmpP9cCjf"
      },
      "outputs": [],
      "source": [
        "#@title Add parentheses with possible ways into given number list array which is two-dimensional\n",
        "def parentheses_added(pos, multiple_parentheses = False):\n",
        "  new_pos = []\n",
        "  for p in pos:\n",
        "    seats = range(0,len(p),2) #position of numbers like [2,4,6,8...]\n",
        "    for parentheses_amount in range(2,len(seats),2) if multiple_parentheses else [2]: #Setting amount of parentheses (maxium is len(seat) if using not only a pair of parentheses)\n",
        "      chosen = list(permutations(seats, parentheses_amount)) #Choosing \"parentheses_amount\" position of parentheses from seats\n",
        "      filted_chosen = chosen.copy() #Copying to prevent editing original \"chosen\"\n",
        "      for c in chosen:\n",
        "        for i in range(len(c)):\n",
        "          if i%2 and c[i]<c[i-1]:\n",
        "            filted_chosen.remove(c) #Remove when the number at odd index is smaller than its previous one\n",
        "            break\n",
        "\n",
        "      for c in filted_chosen:\n",
        "        right = dict(zip(c,[c.index(seat)%2 for seat in c])) #Insert \")\" when the index is odd else insert \"(\"\n",
        "        c = list(c) #Converting tuple to list for sorting\n",
        "        c.sort() #Sorting for easy inserting\n",
        "        new_p = p #Copying to prevent editing original \"p\"\n",
        "        for idx, key in enumerate(c):\n",
        "          new_p  = new_p[:key+1+idx] + \")\" + new_p[key+1+idx:] if right[key] else new_p[:key+idx] + \"(\" + new_p[key+idx:]\n",
        "        try:\n",
        "          if eval(new_p) != eval(p):\n",
        "            new_pos.append(new_p) #Append when parentheses-added one is different from the original one \n",
        "        except:\n",
        "          continue #Preventing ZeroDivisionError\n",
        "\n",
        "  return pos + new_pos"
      ]
    },
    {
      "cell_type": "code",
      "execution_count": null,
      "metadata": {
        "id": "B3iZxxPsUCKX",
        "cellView": "form"
      },
      "outputs": [],
      "source": [
        "#@title Make text more readable\n",
        "def formalize(text):\n",
        "  text = str(text)\n",
        "  before = [str(i) for i in range(10)] + [\"+\", \"-\", \"*\" ,\"/\" ,\"(\" ,\")\"]\n",
        "  after = [\"０\",\"１\",\"２\",\"３\",\"４\",\"５\",\"６\",\"７\",\"８\",\"９\",\"＋\",\"－\",\"×\",\"÷\",\"（\",\"）\"]\n",
        "  for b, a in zip(before, after):\n",
        "    text = text.replace(b, a)\n",
        "  return text"
      ]
    },
    {
      "cell_type": "code",
      "execution_count": null,
      "metadata": {
        "cellView": "form",
        "id": "xCtKYy0bXLbY",
        "colab": {
          "base_uri": "https://localhost:8080/"
        },
        "outputId": "3ce44d75-8979-4a50-f334-d5961ac22d6a"
      },
      "outputs": [
        {
          "output_type": "execute_result",
          "data": {
            "text/plain": [
              "' 3 hr 25 min 46 sec'"
            ],
            "application/vnd.google.colaboratory.intrinsic+json": {
              "type": "string"
            }
          },
          "metadata": {},
          "execution_count": 35
        }
      ],
      "source": [
        "#@title Convert sec to yr/d/hr/min/sec\n",
        "def time_convertion_string(s):\n",
        "  string = ''\n",
        "  if s//31536000:\n",
        "    string += f'{s//31536000:3.0f} yr '\n",
        "    s%=31536000\n",
        "  if s//86400:\n",
        "    string += f'{s//86400:3.0f} d '\n",
        "    s%=86400\n",
        "  if s//3600:\n",
        "    string += f'{s//3600:2.0f} hr '\n",
        "    s%=3600\n",
        "  if s//60:\n",
        "    string += f'{s//60:2.0f} min '\n",
        "    s%=60\n",
        "  string += f'{s:2.0f} sec'\n",
        "  return string\n",
        "\n",
        "time_convertion_string(12345.6789)"
      ]
    },
    {
      "cell_type": "code",
      "execution_count": null,
      "metadata": {
        "cellView": "form",
        "id": "WTmBNo8ZsG4f"
      },
      "outputs": [],
      "source": [
        "#@title LINE Notify\n",
        "def LineNotify(token, msg = '', img_dir = ''):\n",
        "    #HTTP 標頭參數與資料\n",
        "    headers = {\"Authorization\": \"Bearer \" + token} #token = API token of LINE Notify\n",
        "    data = {'message': '\\n' + msg}  # 要發送的訊息\n",
        "    files = { 'imageFile': open(img_dir, 'rb') if img_dir else None} # 要傳送的圖片檔案\n",
        "    #以 requests 發送 POST 請求\n",
        "    requests.post(\"https://notify-api.line.me/api/notify\", headers = headers, data = data, files = files)"
      ]
    },
    {
      "cell_type": "code",
      "execution_count": null,
      "metadata": {
        "cellView": "form",
        "id": "KoICssY-JkGh"
      },
      "outputs": [],
      "source": [
        "#@title Get Answers & Show\n",
        "def GetAnsNShow(quiz_numer, operators, most=10):\n",
        "\n",
        "  original_quiz = list(quiz_numer)\n",
        "  quiz = set(permutations([str(int(q)) for q in original_quiz]))\n",
        "\n",
        "  #Making \"parentheses_added\" malfunction when opertaor \"()\" is banned\n",
        "  parentheses = \"()\" in operators\n",
        "  if parentheses: operators.pop()\n",
        "  \n",
        "  #Finding ways to clear stage without altering positions of numbers and show when found\n",
        "  perfect_ans = []\n",
        "  for formula in parentheses_added(posibility(original_quiz,operators)) if parentheses else posibility(original_quiz,operators):\n",
        "    try:\n",
        "      if eval(formula) == Y: perfect_ans.append(formula)\n",
        "      if len(perfect_ans) >= most: break\n",
        "    except:\n",
        "      continue #Preventing ZeroDivisionError\n",
        "\n",
        "  if perfect_ans:\n",
        "    print(f\"\\n【{len(perfect_ans)} Solutions Without Altering Position】\" if len(perfect_ans)>1 else \"\\n【Only Solution Without Altering Position】\")\n",
        "    print(\"\\n\".join([formalize(A) for A in perfect_ans[:most]]))\n",
        "\n",
        "  #Finding ways to clear stage by altering positions of numbers and show when found\n",
        "  ans = []\n",
        "  for q in quiz:\n",
        "    for formula in parentheses_added(posibility(q,operators)) if parentheses else posibility(q,operators):\n",
        "      try:\n",
        "        if eval(formula) == Y: ans.append(formula)\n",
        "        if len(ans) >= most - len(perfect_ans) : break\n",
        "      except:\n",
        "        continue #Preventing ZeroDivisionError\n",
        "    if len(ans) >= most - len(perfect_ans) : break\n",
        "\n",
        "  #Showing solutions\n",
        "  if ans: print(f\"\\n【{len(ans)} Solutions With Altering Position】\" if len(ans)>1 else \"\\n【Only Solution With Altering Position】\")\n",
        "  else: print(\"\" if perfect_ans else \"\\n⚠️⚠️⚠️ Solution Not Found! ⚠️⚠️⚠️\")\n",
        "  print(\"\\n\".join([formalize(A) for A in ans[:most - len(perfect_ans)]]))"
      ]
    },
    {
      "cell_type": "markdown",
      "metadata": {
        "id": "rfTinwZZjxGm"
      },
      "source": [
        "#Preprocessing"
      ]
    },
    {
      "cell_type": "code",
      "execution_count": null,
      "metadata": {
        "id": "oLbRaXsej1MQ",
        "colab": {
          "base_uri": "https://localhost:8080/"
        },
        "outputId": "9240700d-9343-440f-991f-0c7f9549eaa9",
        "cellView": "form"
      },
      "outputs": [
        {
          "output_type": "display_data",
          "data": {
            "text/plain": [
              "<IPython.core.display.Javascript object>"
            ],
            "application/javascript": [
              "function ClickConnect(){\n",
              "  console.log(\"Working\");\n",
              "  document\n",
              "      .querySelector(\"#top-toolbar > colab-connect-button\")\n",
              "      .shadowRoot\n",
              "      .querySelector(\"#connect\")\n",
              "      .click()\n",
              "}\n",
              "\n",
              "setInterval(ClickConnect,60000)\n"
            ]
          },
          "metadata": {}
        }
      ],
      "source": [
        "#@title Prevent Interruption \n",
        "%%javascript\n",
        "function ClickConnect(){\n",
        "  console.log(\"Working\");\n",
        "  document\n",
        "      .querySelector(\"#top-toolbar > colab-connect-button\")\n",
        "      .shadowRoot\n",
        "      .querySelector(\"#connect\")\n",
        "      .click()\n",
        "}\n",
        "\n",
        "setInterval(ClickConnect,60000)"
      ]
    },
    {
      "cell_type": "markdown",
      "metadata": {
        "id": "Q0CpwFgq5A9e"
      },
      "source": [
        "#Main\n",
        "##⚠️After changing any parameter in a cell, please run that cell again.⚠️\n",
        "###⚠️After changing any parameter in a cell, please run that cell again.⚠️\n",
        "####⚠️After changing any parameter in a cell, please run that cell again.⚠️\n",
        "#####⚠️After changing any parameter in a cell, please run that cell again.⚠️"
      ]
    },
    {
      "cell_type": "code",
      "execution_count": null,
      "metadata": {
        "cellView": "form",
        "id": "3XUhiLv_4roN",
        "colab": {
          "base_uri": "https://localhost:8080/"
        },
        "outputId": "452fcf16-f01e-4fbd-c7af-2a9e616ac397"
      },
      "outputs": [
        {
          "output_type": "stream",
          "name": "stdout",
          "text": [
            "mode : Get Quiz (5=10)\n"
          ]
        }
      ],
      "source": [
        "#@title Please Select Mode and Set X & Y\n",
        "mode = \"Get Quiz\" #@param [\"Get Ans\",\"Get Quiz\", \"Grid Search\"]\n",
        "X = 5 #@param {type:\"integer\"}\n",
        "Y = 10 #@param {type:\"integer\"}\n",
        "name = f\"{X}={Y}\"\n",
        "print(f\"mode : {mode} ({name})\")"
      ]
    },
    {
      "cell_type": "code",
      "execution_count": null,
      "metadata": {
        "id": "o2ta0xzp4ujh",
        "colab": {
          "base_uri": "https://localhost:8080/"
        },
        "outputId": "17588625-7eeb-4573-d26e-2dff23809604",
        "cellView": "form"
      },
      "outputs": [
        {
          "output_type": "stream",
          "name": "stdout",
          "text": [
            "The mode you chose is \"Get Quiz\", thus this cell does nothing.\n"
          ]
        }
      ],
      "source": [
        " #@title Mode \"Get Ans\"\n",
        "\n",
        "if mode != \"Get Ans\":\n",
        "  print(f\"The mode you chose is \\\"{mode}\\\", thus this cell does nothing.\")\n",
        "\n",
        "else:\n",
        "  button_total_width = 420\n",
        "  quiz_input = widgets.Text(value='5'*X, layout=widgets.Layout(width = str(button_total_width)+'px'))\n",
        "  print(\"Please input your quiz number:\")\n",
        "  display(quiz_input)\n",
        "\n",
        "  def on_operator_button_clicked(button):\n",
        "    button.style.button_color = None if button.style.button_color else 'gray' #Changing color to gray means banning that operators\n",
        "\n",
        "  for idx, op in enumerate([\"＋\",\"－\",\"×\",\"÷\",\"（）\"]):\n",
        "    globals()['button'+str(idx)] = widgets.Button(description = op,\n",
        "                            button_style = 'info', \n",
        "                            style = {'font_weight': 'bold', 'color': 'navy'}, \n",
        "                            layout = widgets.Layout(width = str((button_total_width-16)//5) + 'px'))\n",
        "    globals()['button'+str(idx)].on_click(on_operator_button_clicked)\n",
        "\n",
        "  buttons = [globals()['button'+str(idx)] for idx in range(5)]\n",
        "  buttons_box = widgets.HBox(buttons)\n",
        "  print(\"\\nClick any operator to ban it!\")\n",
        "  display(buttons_box)\n",
        "\n",
        "  amount_of_ans2show_at_most = widgets.IntText(value=10, layout=widgets.Layout(width = str(button_total_width)+'px'))\n",
        "  print(\"\\nPlease enter amount of answers you want to see at most:\")\n",
        "  display(amount_of_ans2show_at_most)\n",
        "\n",
        "  def on_get_ans_button_clicked(button):\n",
        "    clear_output(wait=True)\n",
        "    print(\"Please input your quiz number:\")\n",
        "    display(quiz_input)\n",
        "    print(\"\\nClick any operator to ban it!\")\n",
        "    display(buttons_box)\n",
        "    print(\"\\nPlease enter amount of answers you want to see at most:\")\n",
        "    display(amount_of_ans2show_at_most)\n",
        "    print(\"\\nGet Answer!\")\n",
        "    display(get_ans_button)\n",
        "    quiz_number = quiz_input.value\n",
        "    #Foolproof\n",
        "    if not quiz_number: print(\"You didn't enter any quiz number!\")\n",
        "    elif len(quiz_number) != X: print(\"You entered too more quiz number!\" if len(quiz_number)>X else \"You entered too few quiz number!\")\n",
        "    elif not quiz_number.isnumeric(): print(\"Please enter NUMBERS only!\")\n",
        "    else:\n",
        "      operators = [op for idx, op in enumerate([\"+\",\"-\",\"*\",\"/\",\"()\"]) if not globals()['button'+str(idx)].style.button_color]\n",
        "      GetAnsNShow(quiz_number, operators, most = amount_of_ans2show_at_most.value)\n",
        "\n",
        "  #Set the button used to get ans\n",
        "  get_ans_button = widgets.Button(description=\"Get Ans!\", layout=widgets.Layout(width = str(button_total_width)+'px'))\n",
        "  get_ans_button.on_click(on_get_ans_button_clicked)\n",
        "  print(\"\\nGet Answer!\")\n",
        "  display(get_ans_button)"
      ]
    },
    {
      "cell_type": "code",
      "execution_count": null,
      "metadata": {
        "id": "NO-jQWDw4vdm",
        "cellView": "form",
        "colab": {
          "base_uri": "https://localhost:8080/",
          "height": 339,
          "referenced_widgets": [
            "6133c9901a9a4eb68ab07ecd549bd654",
            "99fa6b09b2254ef8bfd5c6d20031f7dc",
            "227b4eb19f0b41eeb73f5d7117ed0486",
            "e3c1a043e1b84821a23135619484a1d3",
            "a93b960d7a5746deafd3bc972d19516d",
            "bf2de2eb40bd4146b0a766b02df9f251",
            "f5b7843f9515439092ba4573cd612a63",
            "354f08f349f1413c80f4f4e1000cd4d2",
            "6b509fd193d94a13aec24658239a6167",
            "01dca083730d4971951b148cd9d1f178",
            "0f837da0e59743609745a3810a72123d",
            "09c90c5efc3b4133a7de04ac52be3a18",
            "cbc2ce0c8f4049c59e182e33e5652760",
            "acbbabdcbd9a4959826e03ad4d4b38d1",
            "cfda37d5e2764ddbbb873bf6f60280ad",
            "c11c139178c04f938fe59ae61518a100",
            "cb2ae319e039489eb4b46d587fb79642",
            "d5b3211666ed4ab7ae79e2476c097ca6",
            "81061e3aa61b45d6902163589f439aa2",
            "827cb6fed7fa46409b9ca85347df7a4f",
            "0a0ce1a5405647bb914262686ce1798c",
            "2b047c32936344028c8b6b90abf3c26a",
            "78bb798473b04b71add5b25e4902f3cf",
            "665953e114ec40dca08ff409642dc4c6"
          ]
        },
        "outputId": "134b9be2-10db-4be1-fe8d-dfac0efb72d4"
      },
      "outputs": [
        {
          "output_type": "stream",
          "name": "stdout",
          "text": [
            "Difficulty:\n"
          ]
        },
        {
          "output_type": "display_data",
          "data": {
            "text/plain": [
              "BoundedIntText(value=5, layout=Layout(width='420px'), max=5, min=1)"
            ],
            "application/vnd.jupyter.widget-view+json": {
              "version_major": 2,
              "version_minor": 0,
              "model_id": "6133c9901a9a4eb68ab07ecd549bd654"
            }
          },
          "metadata": {}
        },
        {
          "output_type": "stream",
          "name": "stdout",
          "text": [
            "\n",
            "Please enter amount of answers you want to see at most:\n"
          ]
        },
        {
          "output_type": "display_data",
          "data": {
            "text/plain": [
              "IntText(value=10, layout=Layout(width='420px'))"
            ],
            "application/vnd.jupyter.widget-view+json": {
              "version_major": 2,
              "version_minor": 0,
              "model_id": "e3c1a043e1b84821a23135619484a1d3"
            }
          },
          "metadata": {}
        },
        {
          "output_type": "stream",
          "name": "stdout",
          "text": [
            "\n"
          ]
        },
        {
          "output_type": "display_data",
          "data": {
            "text/plain": [
              "Button(description='Get Quiz!', style=ButtonStyle())"
            ],
            "application/vnd.jupyter.widget-view+json": {
              "version_major": 2,
              "version_minor": 0,
              "model_id": "f5b7843f9515439092ba4573cd612a63"
            }
          },
          "metadata": {}
        },
        {
          "output_type": "stream",
          "name": "stdout",
          "text": [
            "\n",
            "【5=10】 (Difficulty : ★★★★★)\n",
            "Quiz : 57889\n",
            "Operators : －, ×\n",
            "Amount of Ans : 2\n",
            "\n"
          ]
        },
        {
          "output_type": "display_data",
          "data": {
            "text/plain": [
              "Button(description='Show Ans!', style=ButtonStyle())"
            ],
            "application/vnd.jupyter.widget-view+json": {
              "version_major": 2,
              "version_minor": 0,
              "model_id": "2b047c32936344028c8b6b90abf3c26a"
            }
          },
          "metadata": {}
        }
      ],
      "source": [
        "#@title Mode \"Get quiz\"\n",
        "if mode != \"Get Quiz\":\n",
        "  print(f\"The mode you chose is \\\"{mode}\\\", thus this cell does nothing.\")\n",
        "\n",
        "else:\n",
        "  #@markdown #####Load quizzes data from here ↓ (Keep it default if you want to use author's quizzes data.)\n",
        "  quizzes_data = \"/content/mobile-game-hack-4equals10/quizzes data\" #@param {type:\"string\"}\n",
        "  if quizzes_data == \"/content/mobile-game-hack-4equals10/quizzes data\":\n",
        "    !git clone https://github.com/PikasXYZ/mobile-game-hack-4equals10.git\n",
        "    clear_output()\n",
        "\n",
        "  if name+'.csv' not in os.listdir(quizzes_data):\n",
        "    print(f\"There\\'s no corresponding quizzes data of {name}, try the following:\")\n",
        "    for idx, f in enumerate(os.listdir(quizzes_data)):\n",
        "      if f.endswith('.csv'): print(f[:-4], end = ', ' if (idx+1)%5 else ',\\n')\n",
        "  else:\n",
        "    df = pd.read_csv(os.path.join(quizzes_data, name+'.csv'), dtype={\"Quiz\": str})\n",
        "    \n",
        "    button_total_width = 420\n",
        "\n",
        "    difficulty_choose = widgets.BoundedIntText(value=3, max=5, min=1, layout=widgets.Layout(width = str(button_total_width)+'px'))\n",
        "    print(\"Difficulty:\")\n",
        "    display(difficulty_choose)\n",
        "\n",
        "    amount_of_ans2show_at_most = widgets.IntText(value=10, layout=widgets.Layout(width = str(button_total_width)+'px'))\n",
        "    print(\"\\nPlease enter amount of answers you want to see at most:\")\n",
        "    display(amount_of_ans2show_at_most)\n",
        "        \n",
        "    def on_get_quiz_button_clicked(button):\n",
        "      clear_output(wait=True)\n",
        "      print(\"Difficulty:\")\n",
        "      display(difficulty_choose)\n",
        "      print(\"\\nPlease enter amount of answers you want to see at most:\")\n",
        "      display(amount_of_ans2show_at_most)\n",
        "      print()\n",
        "      display(get_quiz_button)\n",
        "      difficulty = difficulty_choose.value\n",
        "      print(f\"\\n【{name}】 (Difficulty : \", \"★\"*difficulty ,\"☆\"*(5-difficulty), \")\", sep='')\n",
        "      interval = max(df['Amount of Ans'])//5\n",
        "      upper_limit = interval * (6-difficulty) if interval else max(df['Amount of Ans'])\n",
        "      lower_limit = upper_limit - interval if interval else 0\n",
        "      sample = df[(lower_limit<df['Amount of Ans']) & (df['Amount of Ans']<=upper_limit)].sample()\n",
        "      for column_name, value in sample.iteritems():\n",
        "        print(f\"{column_name} : {value.iloc[0]}\")\n",
        "\n",
        "      def on_show_ans_button_clicked(button):\n",
        "        Q = sample['Quiz'].iloc[0]\n",
        "        operators = sample['Operators'].iloc[0].replace('＋','+').replace('－','-').replace('×','*').replace('÷','/').replace('（）','()').split(', ')\n",
        "        GetAnsNShow(Q, operators, amount_of_ans2show_at_most.value)\n",
        "\n",
        "      print()\n",
        "      show_ans_button = widgets.Button(description=\"Show Ans!\")\n",
        "      show_ans_button.on_click(on_show_ans_button_clicked)\n",
        "      display(show_ans_button)\n",
        "\n",
        "    get_quiz_button = widgets.Button(description = 'Get Quiz!')\n",
        "    get_quiz_button.on_click(on_get_quiz_button_clicked)\n",
        "    print()\n",
        "    display(get_quiz_button)"
      ]
    },
    {
      "cell_type": "code",
      "execution_count": null,
      "metadata": {
        "id": "5iTiUFryna6W",
        "cellView": "form"
      },
      "outputs": [],
      "source": [
        "#@title Mode \"Grid Search\"\n",
        "#@markdown ###Generate new quizzes data by yourself!\n",
        "#@markdown #####⠀⠀\n",
        "#@markdown #####Set LINE notify API token or token path of txt for reminding when generating is interrupted & at the end of generating. (OPTIONAL)\n",
        "line_notify_api_token_path = \"/content/drive/MyDrive/LineNotifyToken_self.txt\" #@param {type:\"string\"}\n",
        "line_notify_api_token = \"\" #@param {type:\"string\"}\n",
        "#@markdown #####⠀⠀\n",
        "#@markdown #####Set the folder where log data are stored. \n",
        "log_folder = \"/content/drive/MyDrive/Colab Notebooks/4=10\" #@param {type:\"string\"}\n",
        "#@markdown #####⠀⠀\n",
        "#@markdown #####Set the folder where quizzes data are stored.\n",
        "output_folder = '/content/drive/MyDrive/Colab Notebooks/4=10' #@param {type:\"string\"}\n",
        "\n",
        "if mode != \"Grid Search\":\n",
        "  print(f\"The mode you chose is \\\"{mode}\\\", thus this cell does nothing.\")\n",
        "\n",
        "else:\n",
        "  drive.mount('/content/drive')\n",
        "\n",
        "  #Get LINE Notify API token\n",
        "  if os.path.exists(line_notify_api_token_path):\n",
        "    with open(line_notify_api_token_path,'r') as f:\n",
        "      line_notify_api_token = f.readline()\n",
        "  print(f\"Line Notify API token : {line_notify_api_token[:13]}...\")\n",
        "\n",
        "  #Setting location of log data\n",
        "  log_folder_exsists = os.path.exists(log_folder)\n",
        "  if not log_folder_exsists: os.mkdir(log_folder)\n",
        "\n",
        "  #Loading log data \n",
        "  try:\n",
        "    with open(os.path.join(log_folder, f'{name}.pickle'), 'rb') as f:\n",
        "      log = pickle.load(f)\n",
        "  except:\n",
        "    log = [2, 0, 0, 0, pd.DataFrame(columns = [\"Quiz\", \"Operators\", \"Amount of Ans\"]), 0]\n",
        "  df, time_spent = log[4], log[5] \n",
        "  print(\"log = \",log[:4])\n",
        "\n",
        "  #Setting timers\n",
        "  for i in range(4):\n",
        "    globals()['t'+str(i)] = time()\n",
        "\n",
        "  try:\n",
        "    undone = lambda current, log: any(a>b for a, b in zip(current, log)) or current == log\n",
        "    for amount_of_operator in range(2,6): #Using 2 to 5 operators\n",
        "      if undone([amount_of_operator], log[:1]): #continue if done\n",
        "        operators_pos = list(combinations([\"+\", \"-\", \"*\", \"/\", \"()\"], amount_of_operator)) #All posibilities of choosing what operators to use\n",
        "        for idx, operators in enumerate(operators_pos):\n",
        "          if undone([amount_of_operator, idx], log[:2]) and operators not in [(\"*\",\"()\"), (\"+\",\"()\")]: #continue if done or operators are (\"x\",\"()\")/(\"+\",\"()\")\n",
        "            \n",
        "            #Checking if parentheses were chosen or not\n",
        "            operators_copy = list(operators).copy()\n",
        "            parentheses = \"()\" in operators_copy\n",
        "            if parentheses: operators_copy.pop() #Removing \"()\" if parentheses were chosen\n",
        "            \n",
        "            for idxx, num in enumerate(combinations_with_replacement(list(\"0123456789\"), X)): #All posibilities of choosing X numbers from 0 to 9 (repeatable selection)\n",
        "              if undone([amount_of_operator, idx, idxx], log[:3]): #continue if done\n",
        "                quiz = set(permutations(num)) #All posibilities of arranging chosen numbers\n",
        "\n",
        "                #Finding ways to clear stage\n",
        "                ans = []\n",
        "                for idxxx, q in enumerate(quiz):\n",
        "                  if undone([amount_of_operator, idx, idxx, idxxx-1], log[:4]): #continue if done\n",
        "                    #Making \"parentheses_added\" malfunction when opertaor \"()\" is banned \n",
        "                    for formula in parentheses_added(posibility(q, operators_copy)) if parentheses else posibility(q, operators_copy):\n",
        "                      try:\n",
        "                        if eval(formula) == Y: ans.append(formula)\n",
        "                      except:\n",
        "                        continue #Preventing ZeroDivisionError\n",
        "\n",
        "                    #Saving log    \n",
        "                    with open(os.path.join(log_folder, f'{name}.pickle'), 'wb') as f:\n",
        "                      pickle.dump([amount_of_operator, idx, idxx, idxxx, df, time_spent], f)\n",
        "\n",
        "                operators_f = [formalize(op) for op in operators] #Formalized operators for saving into df\n",
        "                if ans: df.loc[len(df)] = [\"\".join(num), \", \".join(operators_f), len(ans)] #Saving data into df\n",
        "\n",
        "                #Renewing time spent for saving into log\n",
        "                time_spent += time()-t3\n",
        "                t3 = time()\n",
        "\n",
        "                clear_output(wait=True)\n",
        "                current_process = sum([len(list(combinations([\"+\", \"-\", \"*\", \"/\", \"()\"], i))) for i in range(2,amount_of_operator)]) + idx\n",
        "                overall_process = sum([len(list(combinations([\"+\", \"-\", \"*\", \"/\", \"()\"], i))) for i in range(2,6)])\n",
        "                print(f\"【{X}={Y}】\\nlog[:4] : \",log[:4])\n",
        "                print(\"current process of overall process  : {:-<100} {:.1f}%\\t(current operators : {})\".format(\"￭\"* int(current_process/overall_process*100), current_process/overall_process*100, \", \".join(operators_f)))\n",
        "                print(\"number process of current operators : {:-<100} {:.1f}%\\t(current num : {})\".format(\"￭\"* int(idxx/len(list(combinations_with_replacement(list(\"0123456789\"), X)))*100), idxx/len(list(combinations_with_replacement(list(\"0123456789\"), X)))*100, \"\".join(num))) \n",
        "                print(f\"time spent : {time_convertion_string(time_spent)}\")\n",
        "\n",
        "            LineNotify(line_notify_api_token, \"{}:\\n{} is finished.\\t(time spent:{})\\n\".format(name, \", \".join(operators_f), time_convertion_string(time() - t2)))\n",
        "            t2 = time()\n",
        "\n",
        "        LineNotify(line_notify_api_token, \"{}:\\nThe series of {} operators is finished.\\t(time spent:{})\\n\".format(name, amount_of_operator, time_convertion_string(time() - t1)))\n",
        "        t1 = time()\n",
        "\n",
        "    total_time = time_spent #The latter is more precise because user didn't interrupt during the running period\n",
        "    LineNotify(line_notify_api_token, f\"{name}:\\nAll Finished!\\t(time spent:{time_convertion_string(total_time)})\")\n",
        "    print(f\"\\n\\n\\nAll Finished!\\t(time spent:{time_convertion_string(total_time)})\")\n",
        "    print(\"P.S. \", f\"Log data will be saved in {log_folder}\" if log_folder_exsists else f\"{log_folder} was built for saving log data.\")\n",
        "\n",
        "    #Exporting DataFrame \n",
        "    df.to_csv(os.path.join(output_folder, name+\".csv\"), index=False, encoding='utf-8-sig') \n",
        "    print(f\"Result was saved as {name}.csv in {output_folder}!\")  \n",
        "\n",
        "    #Estimating spent times\n",
        "    print(f\"{time_convertion_string(time_spent)} were spent with X = {X}\",\"\\nThe Following is estimated time spent if you want to test another X:\")\n",
        "    for i in [num for num in range(3,11) if num != X]:\n",
        "      print(f\"X = {i:<2} : {time_convertion_string(time_spent * 22**(i-X))}\")\n",
        "\n",
        "  except:\n",
        "    #Saving log  \n",
        "    with open(os.path.join(log_folder, f'{name}.pickle'), 'wb') as f:\n",
        "      pickle.dump([amount_of_operator, idx, idxx, idxxx, df, time_spent], f)\n",
        "    with open(os.path.join(log_folder, f'{name}.pickle'), 'rb') as f:\n",
        "      print(\"\\nInterrupted! (process log : \",pickle.load(f)[:4],\")\")\n",
        "      LineNotify(line_notify_api_token, \"Interrupted! (process log : \",pickle.load(f)[:4],\")\")\n",
        "    print(\"P.S. \", f\"Log data will be saved in {log_folder}\" if log_folder_exsists else f\"{log_folder} was built for saving log data.\")"
      ]
    }
  ],
  "metadata": {
    "colab": {
      "collapsed_sections": [
        "nblGTSnMjRKd",
        "WXa45uu82aW7",
        "rfTinwZZjxGm"
      ],
      "provenance": [],
      "include_colab_link": true
    },
    "kernelspec": {
      "display_name": "Python 3",
      "name": "python3"
    },
    "language_info": {
      "name": "python"
    },
    "widgets": {
      "application/vnd.jupyter.widget-state+json": {
        "6133c9901a9a4eb68ab07ecd549bd654": {
          "model_module": "@jupyter-widgets/controls",
          "model_name": "BoundedIntTextModel",
          "model_module_version": "1.5.0",
          "state": {
            "_dom_classes": [],
            "_model_module": "@jupyter-widgets/controls",
            "_model_module_version": "1.5.0",
            "_model_name": "BoundedIntTextModel",
            "_view_count": null,
            "_view_module": "@jupyter-widgets/controls",
            "_view_module_version": "1.5.0",
            "_view_name": "IntTextView",
            "continuous_update": false,
            "description": "",
            "description_tooltip": null,
            "disabled": false,
            "layout": "IPY_MODEL_99fa6b09b2254ef8bfd5c6d20031f7dc",
            "max": 5,
            "min": 1,
            "step": 1,
            "style": "IPY_MODEL_227b4eb19f0b41eeb73f5d7117ed0486",
            "value": 5
          }
        },
        "99fa6b09b2254ef8bfd5c6d20031f7dc": {
          "model_module": "@jupyter-widgets/base",
          "model_name": "LayoutModel",
          "model_module_version": "1.2.0",
          "state": {
            "_model_module": "@jupyter-widgets/base",
            "_model_module_version": "1.2.0",
            "_model_name": "LayoutModel",
            "_view_count": null,
            "_view_module": "@jupyter-widgets/base",
            "_view_module_version": "1.2.0",
            "_view_name": "LayoutView",
            "align_content": null,
            "align_items": null,
            "align_self": null,
            "border": null,
            "bottom": null,
            "display": null,
            "flex": null,
            "flex_flow": null,
            "grid_area": null,
            "grid_auto_columns": null,
            "grid_auto_flow": null,
            "grid_auto_rows": null,
            "grid_column": null,
            "grid_gap": null,
            "grid_row": null,
            "grid_template_areas": null,
            "grid_template_columns": null,
            "grid_template_rows": null,
            "height": null,
            "justify_content": null,
            "justify_items": null,
            "left": null,
            "margin": null,
            "max_height": null,
            "max_width": null,
            "min_height": null,
            "min_width": null,
            "object_fit": null,
            "object_position": null,
            "order": null,
            "overflow": null,
            "overflow_x": null,
            "overflow_y": null,
            "padding": null,
            "right": null,
            "top": null,
            "visibility": null,
            "width": "420px"
          }
        },
        "227b4eb19f0b41eeb73f5d7117ed0486": {
          "model_module": "@jupyter-widgets/controls",
          "model_name": "DescriptionStyleModel",
          "model_module_version": "1.5.0",
          "state": {
            "_model_module": "@jupyter-widgets/controls",
            "_model_module_version": "1.5.0",
            "_model_name": "DescriptionStyleModel",
            "_view_count": null,
            "_view_module": "@jupyter-widgets/base",
            "_view_module_version": "1.2.0",
            "_view_name": "StyleView",
            "description_width": ""
          }
        },
        "e3c1a043e1b84821a23135619484a1d3": {
          "model_module": "@jupyter-widgets/controls",
          "model_name": "IntTextModel",
          "model_module_version": "1.5.0",
          "state": {
            "_dom_classes": [],
            "_model_module": "@jupyter-widgets/controls",
            "_model_module_version": "1.5.0",
            "_model_name": "IntTextModel",
            "_view_count": null,
            "_view_module": "@jupyter-widgets/controls",
            "_view_module_version": "1.5.0",
            "_view_name": "IntTextView",
            "continuous_update": false,
            "description": "",
            "description_tooltip": null,
            "disabled": false,
            "layout": "IPY_MODEL_a93b960d7a5746deafd3bc972d19516d",
            "step": 1,
            "style": "IPY_MODEL_bf2de2eb40bd4146b0a766b02df9f251",
            "value": 10
          }
        },
        "a93b960d7a5746deafd3bc972d19516d": {
          "model_module": "@jupyter-widgets/base",
          "model_name": "LayoutModel",
          "model_module_version": "1.2.0",
          "state": {
            "_model_module": "@jupyter-widgets/base",
            "_model_module_version": "1.2.0",
            "_model_name": "LayoutModel",
            "_view_count": null,
            "_view_module": "@jupyter-widgets/base",
            "_view_module_version": "1.2.0",
            "_view_name": "LayoutView",
            "align_content": null,
            "align_items": null,
            "align_self": null,
            "border": null,
            "bottom": null,
            "display": null,
            "flex": null,
            "flex_flow": null,
            "grid_area": null,
            "grid_auto_columns": null,
            "grid_auto_flow": null,
            "grid_auto_rows": null,
            "grid_column": null,
            "grid_gap": null,
            "grid_row": null,
            "grid_template_areas": null,
            "grid_template_columns": null,
            "grid_template_rows": null,
            "height": null,
            "justify_content": null,
            "justify_items": null,
            "left": null,
            "margin": null,
            "max_height": null,
            "max_width": null,
            "min_height": null,
            "min_width": null,
            "object_fit": null,
            "object_position": null,
            "order": null,
            "overflow": null,
            "overflow_x": null,
            "overflow_y": null,
            "padding": null,
            "right": null,
            "top": null,
            "visibility": null,
            "width": "420px"
          }
        },
        "bf2de2eb40bd4146b0a766b02df9f251": {
          "model_module": "@jupyter-widgets/controls",
          "model_name": "DescriptionStyleModel",
          "model_module_version": "1.5.0",
          "state": {
            "_model_module": "@jupyter-widgets/controls",
            "_model_module_version": "1.5.0",
            "_model_name": "DescriptionStyleModel",
            "_view_count": null,
            "_view_module": "@jupyter-widgets/base",
            "_view_module_version": "1.2.0",
            "_view_name": "StyleView",
            "description_width": ""
          }
        },
        "f5b7843f9515439092ba4573cd612a63": {
          "model_module": "@jupyter-widgets/controls",
          "model_name": "ButtonModel",
          "model_module_version": "1.5.0",
          "state": {
            "_dom_classes": [],
            "_model_module": "@jupyter-widgets/controls",
            "_model_module_version": "1.5.0",
            "_model_name": "ButtonModel",
            "_view_count": null,
            "_view_module": "@jupyter-widgets/controls",
            "_view_module_version": "1.5.0",
            "_view_name": "ButtonView",
            "button_style": "",
            "description": "Get Quiz!",
            "disabled": false,
            "icon": "",
            "layout": "IPY_MODEL_354f08f349f1413c80f4f4e1000cd4d2",
            "style": "IPY_MODEL_6b509fd193d94a13aec24658239a6167",
            "tooltip": ""
          }
        },
        "354f08f349f1413c80f4f4e1000cd4d2": {
          "model_module": "@jupyter-widgets/base",
          "model_name": "LayoutModel",
          "model_module_version": "1.2.0",
          "state": {
            "_model_module": "@jupyter-widgets/base",
            "_model_module_version": "1.2.0",
            "_model_name": "LayoutModel",
            "_view_count": null,
            "_view_module": "@jupyter-widgets/base",
            "_view_module_version": "1.2.0",
            "_view_name": "LayoutView",
            "align_content": null,
            "align_items": null,
            "align_self": null,
            "border": null,
            "bottom": null,
            "display": null,
            "flex": null,
            "flex_flow": null,
            "grid_area": null,
            "grid_auto_columns": null,
            "grid_auto_flow": null,
            "grid_auto_rows": null,
            "grid_column": null,
            "grid_gap": null,
            "grid_row": null,
            "grid_template_areas": null,
            "grid_template_columns": null,
            "grid_template_rows": null,
            "height": null,
            "justify_content": null,
            "justify_items": null,
            "left": null,
            "margin": null,
            "max_height": null,
            "max_width": null,
            "min_height": null,
            "min_width": null,
            "object_fit": null,
            "object_position": null,
            "order": null,
            "overflow": null,
            "overflow_x": null,
            "overflow_y": null,
            "padding": null,
            "right": null,
            "top": null,
            "visibility": null,
            "width": null
          }
        },
        "6b509fd193d94a13aec24658239a6167": {
          "model_module": "@jupyter-widgets/controls",
          "model_name": "ButtonStyleModel",
          "model_module_version": "1.5.0",
          "state": {
            "_model_module": "@jupyter-widgets/controls",
            "_model_module_version": "1.5.0",
            "_model_name": "ButtonStyleModel",
            "_view_count": null,
            "_view_module": "@jupyter-widgets/base",
            "_view_module_version": "1.2.0",
            "_view_name": "StyleView",
            "button_color": null,
            "font_weight": ""
          }
        },
        "01dca083730d4971951b148cd9d1f178": {
          "model_module": "@jupyter-widgets/controls",
          "model_name": "ButtonModel",
          "model_module_version": "1.5.0",
          "state": {
            "_dom_classes": [],
            "_model_module": "@jupyter-widgets/controls",
            "_model_module_version": "1.5.0",
            "_model_name": "ButtonModel",
            "_view_count": null,
            "_view_module": "@jupyter-widgets/controls",
            "_view_module_version": "1.5.0",
            "_view_name": "ButtonView",
            "button_style": "",
            "description": "Show Ans!",
            "disabled": false,
            "icon": "",
            "layout": "IPY_MODEL_0f837da0e59743609745a3810a72123d",
            "style": "IPY_MODEL_09c90c5efc3b4133a7de04ac52be3a18",
            "tooltip": ""
          }
        },
        "0f837da0e59743609745a3810a72123d": {
          "model_module": "@jupyter-widgets/base",
          "model_name": "LayoutModel",
          "model_module_version": "1.2.0",
          "state": {
            "_model_module": "@jupyter-widgets/base",
            "_model_module_version": "1.2.0",
            "_model_name": "LayoutModel",
            "_view_count": null,
            "_view_module": "@jupyter-widgets/base",
            "_view_module_version": "1.2.0",
            "_view_name": "LayoutView",
            "align_content": null,
            "align_items": null,
            "align_self": null,
            "border": null,
            "bottom": null,
            "display": null,
            "flex": null,
            "flex_flow": null,
            "grid_area": null,
            "grid_auto_columns": null,
            "grid_auto_flow": null,
            "grid_auto_rows": null,
            "grid_column": null,
            "grid_gap": null,
            "grid_row": null,
            "grid_template_areas": null,
            "grid_template_columns": null,
            "grid_template_rows": null,
            "height": null,
            "justify_content": null,
            "justify_items": null,
            "left": null,
            "margin": null,
            "max_height": null,
            "max_width": null,
            "min_height": null,
            "min_width": null,
            "object_fit": null,
            "object_position": null,
            "order": null,
            "overflow": null,
            "overflow_x": null,
            "overflow_y": null,
            "padding": null,
            "right": null,
            "top": null,
            "visibility": null,
            "width": null
          }
        },
        "09c90c5efc3b4133a7de04ac52be3a18": {
          "model_module": "@jupyter-widgets/controls",
          "model_name": "ButtonStyleModel",
          "model_module_version": "1.5.0",
          "state": {
            "_model_module": "@jupyter-widgets/controls",
            "_model_module_version": "1.5.0",
            "_model_name": "ButtonStyleModel",
            "_view_count": null,
            "_view_module": "@jupyter-widgets/base",
            "_view_module_version": "1.2.0",
            "_view_name": "StyleView",
            "button_color": null,
            "font_weight": ""
          }
        },
        "cbc2ce0c8f4049c59e182e33e5652760": {
          "model_module": "@jupyter-widgets/controls",
          "model_name": "ButtonModel",
          "model_module_version": "1.5.0",
          "state": {
            "_dom_classes": [],
            "_model_module": "@jupyter-widgets/controls",
            "_model_module_version": "1.5.0",
            "_model_name": "ButtonModel",
            "_view_count": null,
            "_view_module": "@jupyter-widgets/controls",
            "_view_module_version": "1.5.0",
            "_view_name": "ButtonView",
            "button_style": "",
            "description": "Show Ans!",
            "disabled": false,
            "icon": "",
            "layout": "IPY_MODEL_acbbabdcbd9a4959826e03ad4d4b38d1",
            "style": "IPY_MODEL_cfda37d5e2764ddbbb873bf6f60280ad",
            "tooltip": ""
          }
        },
        "acbbabdcbd9a4959826e03ad4d4b38d1": {
          "model_module": "@jupyter-widgets/base",
          "model_name": "LayoutModel",
          "model_module_version": "1.2.0",
          "state": {
            "_model_module": "@jupyter-widgets/base",
            "_model_module_version": "1.2.0",
            "_model_name": "LayoutModel",
            "_view_count": null,
            "_view_module": "@jupyter-widgets/base",
            "_view_module_version": "1.2.0",
            "_view_name": "LayoutView",
            "align_content": null,
            "align_items": null,
            "align_self": null,
            "border": null,
            "bottom": null,
            "display": null,
            "flex": null,
            "flex_flow": null,
            "grid_area": null,
            "grid_auto_columns": null,
            "grid_auto_flow": null,
            "grid_auto_rows": null,
            "grid_column": null,
            "grid_gap": null,
            "grid_row": null,
            "grid_template_areas": null,
            "grid_template_columns": null,
            "grid_template_rows": null,
            "height": null,
            "justify_content": null,
            "justify_items": null,
            "left": null,
            "margin": null,
            "max_height": null,
            "max_width": null,
            "min_height": null,
            "min_width": null,
            "object_fit": null,
            "object_position": null,
            "order": null,
            "overflow": null,
            "overflow_x": null,
            "overflow_y": null,
            "padding": null,
            "right": null,
            "top": null,
            "visibility": null,
            "width": null
          }
        },
        "cfda37d5e2764ddbbb873bf6f60280ad": {
          "model_module": "@jupyter-widgets/controls",
          "model_name": "ButtonStyleModel",
          "model_module_version": "1.5.0",
          "state": {
            "_model_module": "@jupyter-widgets/controls",
            "_model_module_version": "1.5.0",
            "_model_name": "ButtonStyleModel",
            "_view_count": null,
            "_view_module": "@jupyter-widgets/base",
            "_view_module_version": "1.2.0",
            "_view_name": "StyleView",
            "button_color": null,
            "font_weight": ""
          }
        },
        "c11c139178c04f938fe59ae61518a100": {
          "model_module": "@jupyter-widgets/controls",
          "model_name": "ButtonModel",
          "model_module_version": "1.5.0",
          "state": {
            "_dom_classes": [],
            "_model_module": "@jupyter-widgets/controls",
            "_model_module_version": "1.5.0",
            "_model_name": "ButtonModel",
            "_view_count": null,
            "_view_module": "@jupyter-widgets/controls",
            "_view_module_version": "1.5.0",
            "_view_name": "ButtonView",
            "button_style": "",
            "description": "Show Ans!",
            "disabled": false,
            "icon": "",
            "layout": "IPY_MODEL_cb2ae319e039489eb4b46d587fb79642",
            "style": "IPY_MODEL_d5b3211666ed4ab7ae79e2476c097ca6",
            "tooltip": ""
          }
        },
        "cb2ae319e039489eb4b46d587fb79642": {
          "model_module": "@jupyter-widgets/base",
          "model_name": "LayoutModel",
          "model_module_version": "1.2.0",
          "state": {
            "_model_module": "@jupyter-widgets/base",
            "_model_module_version": "1.2.0",
            "_model_name": "LayoutModel",
            "_view_count": null,
            "_view_module": "@jupyter-widgets/base",
            "_view_module_version": "1.2.0",
            "_view_name": "LayoutView",
            "align_content": null,
            "align_items": null,
            "align_self": null,
            "border": null,
            "bottom": null,
            "display": null,
            "flex": null,
            "flex_flow": null,
            "grid_area": null,
            "grid_auto_columns": null,
            "grid_auto_flow": null,
            "grid_auto_rows": null,
            "grid_column": null,
            "grid_gap": null,
            "grid_row": null,
            "grid_template_areas": null,
            "grid_template_columns": null,
            "grid_template_rows": null,
            "height": null,
            "justify_content": null,
            "justify_items": null,
            "left": null,
            "margin": null,
            "max_height": null,
            "max_width": null,
            "min_height": null,
            "min_width": null,
            "object_fit": null,
            "object_position": null,
            "order": null,
            "overflow": null,
            "overflow_x": null,
            "overflow_y": null,
            "padding": null,
            "right": null,
            "top": null,
            "visibility": null,
            "width": null
          }
        },
        "d5b3211666ed4ab7ae79e2476c097ca6": {
          "model_module": "@jupyter-widgets/controls",
          "model_name": "ButtonStyleModel",
          "model_module_version": "1.5.0",
          "state": {
            "_model_module": "@jupyter-widgets/controls",
            "_model_module_version": "1.5.0",
            "_model_name": "ButtonStyleModel",
            "_view_count": null,
            "_view_module": "@jupyter-widgets/base",
            "_view_module_version": "1.2.0",
            "_view_name": "StyleView",
            "button_color": null,
            "font_weight": ""
          }
        },
        "81061e3aa61b45d6902163589f439aa2": {
          "model_module": "@jupyter-widgets/controls",
          "model_name": "ButtonModel",
          "model_module_version": "1.5.0",
          "state": {
            "_dom_classes": [],
            "_model_module": "@jupyter-widgets/controls",
            "_model_module_version": "1.5.0",
            "_model_name": "ButtonModel",
            "_view_count": null,
            "_view_module": "@jupyter-widgets/controls",
            "_view_module_version": "1.5.0",
            "_view_name": "ButtonView",
            "button_style": "",
            "description": "Show Ans!",
            "disabled": false,
            "icon": "",
            "layout": "IPY_MODEL_827cb6fed7fa46409b9ca85347df7a4f",
            "style": "IPY_MODEL_0a0ce1a5405647bb914262686ce1798c",
            "tooltip": ""
          }
        },
        "827cb6fed7fa46409b9ca85347df7a4f": {
          "model_module": "@jupyter-widgets/base",
          "model_name": "LayoutModel",
          "model_module_version": "1.2.0",
          "state": {
            "_model_module": "@jupyter-widgets/base",
            "_model_module_version": "1.2.0",
            "_model_name": "LayoutModel",
            "_view_count": null,
            "_view_module": "@jupyter-widgets/base",
            "_view_module_version": "1.2.0",
            "_view_name": "LayoutView",
            "align_content": null,
            "align_items": null,
            "align_self": null,
            "border": null,
            "bottom": null,
            "display": null,
            "flex": null,
            "flex_flow": null,
            "grid_area": null,
            "grid_auto_columns": null,
            "grid_auto_flow": null,
            "grid_auto_rows": null,
            "grid_column": null,
            "grid_gap": null,
            "grid_row": null,
            "grid_template_areas": null,
            "grid_template_columns": null,
            "grid_template_rows": null,
            "height": null,
            "justify_content": null,
            "justify_items": null,
            "left": null,
            "margin": null,
            "max_height": null,
            "max_width": null,
            "min_height": null,
            "min_width": null,
            "object_fit": null,
            "object_position": null,
            "order": null,
            "overflow": null,
            "overflow_x": null,
            "overflow_y": null,
            "padding": null,
            "right": null,
            "top": null,
            "visibility": null,
            "width": null
          }
        },
        "0a0ce1a5405647bb914262686ce1798c": {
          "model_module": "@jupyter-widgets/controls",
          "model_name": "ButtonStyleModel",
          "model_module_version": "1.5.0",
          "state": {
            "_model_module": "@jupyter-widgets/controls",
            "_model_module_version": "1.5.0",
            "_model_name": "ButtonStyleModel",
            "_view_count": null,
            "_view_module": "@jupyter-widgets/base",
            "_view_module_version": "1.2.0",
            "_view_name": "StyleView",
            "button_color": null,
            "font_weight": ""
          }
        },
        "2b047c32936344028c8b6b90abf3c26a": {
          "model_module": "@jupyter-widgets/controls",
          "model_name": "ButtonModel",
          "model_module_version": "1.5.0",
          "state": {
            "_dom_classes": [],
            "_model_module": "@jupyter-widgets/controls",
            "_model_module_version": "1.5.0",
            "_model_name": "ButtonModel",
            "_view_count": null,
            "_view_module": "@jupyter-widgets/controls",
            "_view_module_version": "1.5.0",
            "_view_name": "ButtonView",
            "button_style": "",
            "description": "Show Ans!",
            "disabled": false,
            "icon": "",
            "layout": "IPY_MODEL_78bb798473b04b71add5b25e4902f3cf",
            "style": "IPY_MODEL_665953e114ec40dca08ff409642dc4c6",
            "tooltip": ""
          }
        },
        "78bb798473b04b71add5b25e4902f3cf": {
          "model_module": "@jupyter-widgets/base",
          "model_name": "LayoutModel",
          "model_module_version": "1.2.0",
          "state": {
            "_model_module": "@jupyter-widgets/base",
            "_model_module_version": "1.2.0",
            "_model_name": "LayoutModel",
            "_view_count": null,
            "_view_module": "@jupyter-widgets/base",
            "_view_module_version": "1.2.0",
            "_view_name": "LayoutView",
            "align_content": null,
            "align_items": null,
            "align_self": null,
            "border": null,
            "bottom": null,
            "display": null,
            "flex": null,
            "flex_flow": null,
            "grid_area": null,
            "grid_auto_columns": null,
            "grid_auto_flow": null,
            "grid_auto_rows": null,
            "grid_column": null,
            "grid_gap": null,
            "grid_row": null,
            "grid_template_areas": null,
            "grid_template_columns": null,
            "grid_template_rows": null,
            "height": null,
            "justify_content": null,
            "justify_items": null,
            "left": null,
            "margin": null,
            "max_height": null,
            "max_width": null,
            "min_height": null,
            "min_width": null,
            "object_fit": null,
            "object_position": null,
            "order": null,
            "overflow": null,
            "overflow_x": null,
            "overflow_y": null,
            "padding": null,
            "right": null,
            "top": null,
            "visibility": null,
            "width": null
          }
        },
        "665953e114ec40dca08ff409642dc4c6": {
          "model_module": "@jupyter-widgets/controls",
          "model_name": "ButtonStyleModel",
          "model_module_version": "1.5.0",
          "state": {
            "_model_module": "@jupyter-widgets/controls",
            "_model_module_version": "1.5.0",
            "_model_name": "ButtonStyleModel",
            "_view_count": null,
            "_view_module": "@jupyter-widgets/base",
            "_view_module_version": "1.2.0",
            "_view_name": "StyleView",
            "button_color": null,
            "font_weight": ""
          }
        }
      }
    }
  },
  "nbformat": 4,
  "nbformat_minor": 0
}